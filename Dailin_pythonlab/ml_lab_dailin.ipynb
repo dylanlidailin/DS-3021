{
 "cells": [
  {
   "cell_type": "markdown",
   "metadata": {},
   "source": [
    "# What is a independent Business Metric for your problem?\n",
    "Data preparation:\n",
    "- correct variable type/class as needed\n",
    "- collapse factor levels as needed\n",
    "- one-hot encoding factor variables\n",
    "- normalize the continuous variables\n",
    "- drop unneeded variables\n",
    "- create target variable if needed\n",
    "- Calculate the prevalence of the target variable\n",
    "- Create the necessary data partitions (Train,Tune,Test)"
   ]
  },
  {
   "cell_type": "code",
   "execution_count": 1,
   "metadata": {},
   "outputs": [],
   "source": [
    "import pandas as pd\n",
    "from sklearn.model_selection import train_test_split \n",
    "from sklearn.preprocessing import MinMaxScaler, StandardScaler"
   ]
  },
  {
   "cell_type": "markdown",
   "metadata": {},
   "source": [
    "# Placement"
   ]
  },
  {
   "cell_type": "code",
   "execution_count": 2,
   "metadata": {},
   "outputs": [
    {
     "name": "stdout",
     "output_type": "stream",
     "text": [
      "   sl_no gender  ssc_p    ssc_b  hsc_p    hsc_b     hsc_s  degree_p  \\\n",
      "0      1      M  67.00   Others  91.00   Others  Commerce     58.00   \n",
      "1      2      M  79.33  Central  78.33   Others   Science     77.48   \n",
      "2      3      M  65.00  Central  68.00  Central      Arts     64.00   \n",
      "3      4      M  56.00  Central  52.00  Central   Science     52.00   \n",
      "4      5      M  85.80  Central  73.60  Central  Commerce     73.30   \n",
      "\n",
      "    degree_t workex  etest_p specialisation  mba_p      status    salary  \n",
      "0   Sci&Tech     No     55.0         Mkt&HR  58.80      Placed  270000.0  \n",
      "1   Sci&Tech    Yes     86.5        Mkt&Fin  66.28      Placed  200000.0  \n",
      "2  Comm&Mgmt     No     75.0        Mkt&Fin  57.80      Placed  250000.0  \n",
      "3   Sci&Tech     No     66.0         Mkt&HR  59.43  Not Placed       NaN  \n",
      "4  Comm&Mgmt     No     96.8        Mkt&Fin  55.50      Placed  425000.0  \n"
     ]
    }
   ],
   "source": [
    "import pandas as pd\n",
    "placement = pd.read_csv('https://raw.githubusercontent.com/DG1606/CMS-R-2020/master/Placement_Data_Full_Class.csv')\n",
    "print(placement.head())"
   ]
  },
  {
   "cell_type": "markdown",
   "metadata": {},
   "source": [
    "# Metric\n",
    "Assuming that higher ratings results in higher sales, can we predict which new cereals that enter the market over the next year will perform the best?"
   ]
  },
  {
   "cell_type": "code",
   "execution_count": null,
   "metadata": {},
   "outputs": [],
   "source": []
  },
  {
   "cell_type": "markdown",
   "metadata": {},
   "source": [
    "# Campus"
   ]
  },
  {
   "cell_type": "markdown",
   "metadata": {},
   "source": [
    "## Among Asian-Pacific students, Which state tends to have schools that guarantee an on-time graduation?"
   ]
  },
  {
   "cell_type": "markdown",
   "metadata": {},
   "source": [
    "### Scale/Center/Normalizing/Variable Classes"
   ]
  },
  {
   "cell_type": "code",
   "execution_count": 3,
   "metadata": {},
   "outputs": [
    {
     "name": "stdout",
     "output_type": "stream",
     "text": [
      "<class 'pandas.core.frame.DataFrame'>\n",
      "RangeIndex: 3798 entries, 0 to 3797\n",
      "Data columns (total 63 columns):\n",
      " #   Column                                Non-Null Count  Dtype  \n",
      "---  ------                                --------------  -----  \n",
      " 0   index                                 3798 non-null   int64  \n",
      " 1   unitid                                3798 non-null   int64  \n",
      " 2   chronname                             3798 non-null   object \n",
      " 3   city                                  3798 non-null   object \n",
      " 4   state                                 3798 non-null   object \n",
      " 5   level                                 3798 non-null   object \n",
      " 6   control                               3798 non-null   object \n",
      " 7   basic                                 3798 non-null   object \n",
      " 8   hbcu                                  94 non-null     object \n",
      " 9   flagship                              50 non-null     object \n",
      " 10  long_x                                3798 non-null   float64\n",
      " 11  lat_y                                 3798 non-null   float64\n",
      " 12  site                                  3779 non-null   object \n",
      " 13  student_count                         3798 non-null   int64  \n",
      " 14  awards_per_value                      3798 non-null   float64\n",
      " 15  awards_per_state_value                3798 non-null   float64\n",
      " 16  awards_per_natl_value                 3798 non-null   float64\n",
      " 17  exp_award_value                       3798 non-null   int64  \n",
      " 18  exp_award_state_value                 3798 non-null   int64  \n",
      " 19  exp_award_natl_value                  3798 non-null   int64  \n",
      " 20  exp_award_percentile                  3798 non-null   int64  \n",
      " 21  ft_pct                                3794 non-null   float64\n",
      " 22  fte_value                             3798 non-null   int64  \n",
      " 23  fte_percentile                        3798 non-null   int64  \n",
      " 24  med_sat_value                         1337 non-null   float64\n",
      " 25  med_sat_percentile                    1337 non-null   float64\n",
      " 26  aid_value                             3797 non-null   float64\n",
      " 27  aid_percentile                        3797 non-null   float64\n",
      " 28  endow_value                           2323 non-null   float64\n",
      " 29  endow_percentile                      2323 non-null   float64\n",
      " 30  grad_100_value                        3467 non-null   float64\n",
      " 31  grad_100_percentile                   3467 non-null   float64\n",
      " 32  grad_150_value                        3467 non-null   float64\n",
      " 33  grad_150_percentile                   3467 non-null   float64\n",
      " 34  pell_value                            3797 non-null   float64\n",
      " 35  pell_percentile                       3797 non-null   float64\n",
      " 36  retain_value                          3535 non-null   float64\n",
      " 37  retain_percentile                     3535 non-null   float64\n",
      " 38  ft_fac_value                          3785 non-null   float64\n",
      " 39  ft_fac_percentile                     3785 non-null   float64\n",
      " 40  vsa_year                              279 non-null    float64\n",
      " 41  vsa_grad_after4_first                 279 non-null    float64\n",
      " 42  vsa_grad_elsewhere_after4_first       279 non-null    float64\n",
      " 43  vsa_enroll_after4_first               279 non-null    float64\n",
      " 44  vsa_enroll_elsewhere_after4_first     279 non-null    float64\n",
      " 45  vsa_grad_after6_first                 279 non-null    float64\n",
      " 46  vsa_grad_elsewhere_after6_first       279 non-null    float64\n",
      " 47  vsa_enroll_after6_first               279 non-null    float64\n",
      " 48  vsa_enroll_elsewhere_after6_first     279 non-null    float64\n",
      " 49  vsa_grad_after4_transfer              270 non-null    float64\n",
      " 50  vsa_grad_elsewhere_after4_transfer    270 non-null    float64\n",
      " 51  vsa_enroll_after4_transfer            270 non-null    float64\n",
      " 52  vsa_enroll_elsewhere_after4_transfer  270 non-null    float64\n",
      " 53  vsa_grad_after6_transfer              270 non-null    float64\n",
      " 54  vsa_grad_elsewhere_after6_transfer    270 non-null    float64\n",
      " 55  vsa_enroll_after6_transfer            270 non-null    float64\n",
      " 56  vsa_enroll_elsewhere_after6_transfer  270 non-null    float64\n",
      " 57  similar                               3579 non-null   object \n",
      " 58  state_sector_ct                       3798 non-null   int64  \n",
      " 59  carnegie_ct                           3798 non-null   int64  \n",
      " 60  counted_pct                           3372 non-null   object \n",
      " 61  nicknames                             310 non-null    object \n",
      " 62  cohort_size                           3467 non-null   float64\n",
      "dtypes: float64(40), int64(11), object(12)\n",
      "memory usage: 1.8+ MB\n",
      "None\n"
     ]
    }
   ],
   "source": [
    "campus = pd.read_csv('cc_institution_details.csv')\n",
    "print(campus.info())"
   ]
  },
  {
   "cell_type": "code",
   "execution_count": 4,
   "metadata": {},
   "outputs": [
    {
     "data": {
      "text/plain": [
       "index                int64\n",
       "unitid               int64\n",
       "chronname           object\n",
       "city                object\n",
       "state               object\n",
       "                    ...   \n",
       "state_sector_ct      int64\n",
       "carnegie_ct          int64\n",
       "counted_pct         object\n",
       "nicknames           object\n",
       "cohort_size        float64\n",
       "Length: 63, dtype: object"
      ]
     },
     "execution_count": 4,
     "metadata": {},
     "output_type": "execute_result"
    }
   ],
   "source": [
    "Column_index_list = [2,3,4,5,6,7,8,9]\n",
    "campus.iloc[:,Column_index_list]= campus.iloc[:,Column_index_list].astype('category') \n",
    "campus.dtypes"
   ]
  },
  {
   "cell_type": "markdown",
   "metadata": {},
   "source": [
    "1. This College Completion dataset provides an invaluable insight into the success and progress of college students in the United States. It contains graduation rates, race and other data to offer a comprehensive view of college completion in America. The data is sourced from two primary sources – the National Center for Education Statistics (NCES)’ Integrated Postsecondary Education System (IPEDS) and Voluntary System of Accountability’s Student Success and Progress rate.\n",
    "2. At four-year institutions, the graduation figures come from IPEDS for first-time, full-time degree seeking students at the undergraduate level, who entered college six years earlier at four-year institutions or three years earlier at two-year institutions. Furthermore, colleges report how many students completed their program within 100 percent and 150 percent of normal time which corresponds with graduation within four years or six year respectively. Students reported as being of two or more races are included in totals but not shown separately\n",
    "3. When analyzing race and ethnicity data NCES have classified student demographics since 2009 into seven categories; White non-Hispanic; Black non Hispanic; American Indian/ Alaskan native ; Asian/ Pacific Islander ; Unknown race or ethnicity ; Non resident with two new categorize Native Hawaiian or Other Pacific Islander combined with Asian plus students belonging to several races. Also worth noting is that different classifications for graduate data stemming from 2008 could be due to variations in time frame examined & groupings used by particular colleges – those who can’t be identified from National Student Clearinghouse records won’t be subjected to penalty by these locations .\n",
    "4. When it comes down to efficiency measures parameters like “Awards per 100 Full Time Undergraduate Students which includes all undergraduate completions reported by a particular institution including associate degrees & certificates less than 4 year programme will assist us here while we also take into consideration measures like expenditure categories , Pell grant percentage , endowment values , average student aid amounts & full time faculty members contributing outstandingly towards instructional research / public service initiatives .\n",
    "5. When trying to quantify outcomes back up Median Estimated SAT score metric helps us when it is derived either on 25th percentile basis / 75th percentile basis with all these factors further qualified by identifying required criteria meeting 90% threshold when incoming students are considered for relevance . Last but not least , Average Student Aid equalizes amount granted by institution dividing same over total sum received against what was allotted that particular year .\n",
    "6. All this analysis gives an opportunity get a holistic overview about performance , potential deficits &"
   ]
  },
  {
   "cell_type": "code",
   "execution_count": 18,
   "metadata": {},
   "outputs": [
    {
     "name": "stdout",
     "output_type": "stream",
     "text": [
      "0    10.0\n",
      "1    29.4\n",
      "2     0.0\n",
      "3    16.5\n",
      "4     8.8\n",
      "Name: grad_100_value, dtype: float64\n"
     ]
    }
   ],
   "source": [
    "print(campus['grad_100_value'].head())"
   ]
  },
  {
   "cell_type": "code",
   "execution_count": 22,
   "metadata": {},
   "outputs": [
    {
     "data": {
      "text/plain": [
       "array([[-0.78785771],\n",
       "       [ 0.0444257 ],\n",
       "       [-1.21686977],\n",
       "       [-0.50899986],\n",
       "       [-0.83933915],\n",
       "       [ 0.61501175],\n",
       "       [-0.88653048],\n",
       "       [-0.79214783],\n",
       "       [ 0.3962156 ],\n",
       "       [ 1.06547442]])"
      ]
     },
     "execution_count": 22,
     "metadata": {},
     "output_type": "execute_result"
    }
   ],
   "source": [
    "campus_sc = StandardScaler().fit_transform(campus[['grad_100_value']])\n",
    "campus_sc[:10]"
   ]
  },
  {
   "cell_type": "code",
   "execution_count": null,
   "metadata": {},
   "outputs": [],
   "source": []
  }
 ],
 "metadata": {
  "kernelspec": {
   "display_name": ".venv",
   "language": "python",
   "name": "python3"
  },
  "language_info": {
   "codemirror_mode": {
    "name": "ipython",
    "version": 3
   },
   "file_extension": ".py",
   "mimetype": "text/x-python",
   "name": "python",
   "nbconvert_exporter": "python",
   "pygments_lexer": "ipython3",
   "version": "3.12.8"
  }
 },
 "nbformat": 4,
 "nbformat_minor": 2
}
