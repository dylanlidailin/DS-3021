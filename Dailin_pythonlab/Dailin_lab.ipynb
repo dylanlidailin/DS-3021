{
 "cells": [
  {
   "cell_type": "markdown",
   "metadata": {},
   "source": [
    "# Assignment No.2"
   ]
  },
  {
   "cell_type": "markdown",
   "metadata": {},
   "source": [
    "I imported two datasets from kaggle -- one is about the heart attack rate and its factors and the other one is a dataset about road accident. I've attached the two csv files."
   ]
  },
  {
   "cell_type": "code",
   "execution_count": 99,
   "metadata": {},
   "outputs": [],
   "source": [
    "import pandas as pd\n",
    "import seaborn as sns\n",
    "import matplotlib.pyplot as plt"
   ]
  },
  {
   "cell_type": "markdown",
   "metadata": {},
   "source": [
    "## Question No.1"
   ]
  },
  {
   "cell_type": "markdown",
   "metadata": {},
   "source": [
    "### Which one has a higher impact on the heart attack rate? Diabetes or smoking?"
   ]
  },
  {
   "cell_type": "markdown",
   "metadata": {},
   "source": [
    "### Sudo Code\n",
    "1.  Compute the Heart Attack Rates for smokers and non-smokers\n",
    "2.  Compute the Heart Attack Rates for patients with diabetes and without diabetes\n",
    "3.  Combine the dataframes"
   ]
  },
  {
   "cell_type": "markdown",
   "metadata": {},
   "source": [
    "### Access the data"
   ]
  },
  {
   "cell_type": "code",
   "execution_count": 101,
   "metadata": {},
   "outputs": [
    {
     "name": "stdout",
     "output_type": "stream",
     "text": [
      "   age  sex  total_cholesterol         ldl        hdl  systolic_bp  \\\n",
      "0   57    1         229.463642  175.879129  39.225687   124.070127   \n",
      "1   58    1         186.464120  128.984916  34.950968    95.492552   \n",
      "2   37    1         251.300719  152.347592  45.913288    99.519335   \n",
      "3   55    1         192.058908  116.803684  67.208925   122.460002   \n",
      "4   53    1         151.203448  107.017396  60.693838   123.022257   \n",
      "\n",
      "   diastolic_bp  smoking  diabetes  heart_attack  \n",
      "0     91.378780        0         0             0  \n",
      "1     64.355040        1         0             0  \n",
      "2     64.953147        0         1             0  \n",
      "3     73.821382        0         0             0  \n",
      "4     81.121946        0         1             0  \n"
     ]
    }
   ],
   "source": [
    "heart_attack = pd.read_csv(\"updated_version.csv\")\n",
    "print(heart_attack.head())"
   ]
  },
  {
   "cell_type": "markdown",
   "metadata": {},
   "source": [
    "### Check for NA values"
   ]
  },
  {
   "cell_type": "code",
   "execution_count": 10,
   "metadata": {},
   "outputs": [
    {
     "data": {
      "text/plain": [
       "0    0\n",
       "1    0\n",
       "2    1\n",
       "3    0\n",
       "4    1\n",
       "Name: diabetes, dtype: int64"
      ]
     },
     "execution_count": 10,
     "metadata": {},
     "output_type": "execute_result"
    }
   ],
   "source": [
    "diab = heart_attack['diabetes'].dropna()\n",
    "smok = heart_attack['smoking'].dropna()"
   ]
  },
  {
   "cell_type": "markdown",
   "metadata": {},
   "source": [
    "### Compute the Heart Attack Rates for smokers and non-smokers"
   ]
  },
  {
   "cell_type": "code",
   "execution_count": 79,
   "metadata": {},
   "outputs": [
    {
     "name": "stdout",
     "output_type": "stream",
     "text": [
      "       Factor  Heart Attack Rate\n",
      "0  Non-Smoker           0.071429\n",
      "1      Smoker           0.232673\n"
     ]
    }
   ],
   "source": [
    "heart_attack_by_smoking = heart_attack.groupby('smoking')['heart_attack'].mean().reset_index()\n",
    "heart_attack_by_smoking.columns = ['Factor', 'Heart Attack Rate']\n",
    "heart_attack_by_smoking['Factor'] = heart_attack_by_smoking['Factor'].map({0: 'Non-Smoker', 1: 'Smoker'})\n",
    "\n",
    "\n",
    "print(heart_attack_by_smoking)"
   ]
  },
  {
   "cell_type": "markdown",
   "metadata": {},
   "source": [
    "### Compute the Heart Attack Rates for patients with diabetes and without diabetes"
   ]
  },
  {
   "cell_type": "code",
   "execution_count": 80,
   "metadata": {},
   "outputs": [
    {
     "name": "stdout",
     "output_type": "stream",
     "text": [
      "        Factor  Heart Attack Rate\n",
      "0  No Diabetes           0.075824\n",
      "1     Diabetes           0.388889\n"
     ]
    }
   ],
   "source": [
    "heart_attack_by_diabetes = heart_attack.groupby('diabetes')['heart_attack'].mean().reset_index()\n",
    "heart_attack_by_diabetes.columns = ['Factor', 'Heart Attack Rate']\n",
    "heart_attack_by_diabetes['Factor'] = heart_attack_by_diabetes['Factor'].map({0: 'No Diabetes', 1: 'Diabetes'})\n",
    "\n",
    "print(heart_attack_by_diabetes)"
   ]
  },
  {
   "cell_type": "markdown",
   "metadata": {},
   "source": [
    "### Combine the dataframes"
   ]
  },
  {
   "cell_type": "code",
   "execution_count": 81,
   "metadata": {},
   "outputs": [
    {
     "name": "stdout",
     "output_type": "stream",
     "text": [
      "        Factor  Heart Attack Rate\n",
      "0   Non-Smoker           0.071429\n",
      "1       Smoker           0.232673\n",
      "2  No Diabetes           0.075824\n",
      "3     Diabetes           0.388889\n"
     ]
    }
   ],
   "source": [
    "combined_heart_attack_factors = pd.concat([heart_attack_by_smoking, heart_attack_by_diabetes], ignore_index=True)\n",
    "print(combined_heart_attack_factors)"
   ]
  },
  {
   "cell_type": "markdown",
   "metadata": {},
   "source": [
    "### Final Construction"
   ]
  },
  {
   "cell_type": "code",
   "execution_count": null,
   "metadata": {},
   "outputs": [
    {
     "name": "stdout",
     "output_type": "stream",
     "text": [
      "        Factor  Heart Attack Rate\n",
      "0   Non-Smoker           0.071429\n",
      "1       Smoker           0.232673\n",
      "2  No Diabetes           0.075824\n",
      "3     Diabetic           0.388889\n"
     ]
    }
   ],
   "source": [
    "def compare_heart_attack_factors(data):\n",
    "    data = data[['heart_attack', 'smoking', 'diabetes']].dropna()\n",
    "    \n",
    "    heart_attack_by_smoking = data.groupby('smoking')['heart_attack'].mean().reset_index()\n",
    "    heart_attack_by_smoking.columns = ['Factor', 'Heart Attack Rate']    \n",
    "    heart_attack_by_smoking['Factor'] = heart_attack_by_smoking['Factor'].map({0: 'Non-Smoker', 1: 'Smoker'})\n",
    "\n",
    "    heart_attack_by_diabetes = data.groupby('diabetes')['heart_attack'].mean().reset_index()\n",
    "    heart_attack_by_diabetes.columns = ['Factor', 'Heart Attack Rate']\n",
    "    heart_attack_by_diabetes['Factor'] = heart_attack_by_diabetes['Factor'].map({0: 'No Diabetes', 1: 'Diabetic'})\n",
    "\n",
    "    combined_heart_attack_factors = pd.concat([heart_attack_by_smoking, heart_attack_by_diabetes], ignore_index=True)\n",
    "    \n",
    "    return combined_heart_attack_factors\n",
    "\n",
    "heart_attack_factors_df = compare_heart_attack_factors(heart_attack)\n",
    "print(heart_attack_factors_df)"
   ]
  },
  {
   "cell_type": "markdown",
   "metadata": {},
   "source": [
    "## Question 2"
   ]
  },
  {
   "cell_type": "markdown",
   "metadata": {},
   "source": [
    "### Does smoking have a significant impact on LDL cholesterol levels?"
   ]
  },
  {
   "cell_type": "markdown",
   "metadata": {},
   "source": [
    "### Sudo Code\n",
    "1. Group the data set into smokers and non-smokers\n",
    "1. Calculate the mean value of LDL for both group"
   ]
  },
  {
   "cell_type": "code",
   "execution_count": null,
   "metadata": {},
   "outputs": [
    {
     "data": {
      "text/plain": [
       "ldl        0\n",
       "smoking    0\n",
       "dtype: int64"
      ]
     },
     "execution_count": 18,
     "metadata": {},
     "output_type": "execute_result"
    }
   ],
   "source": [
    "heart_attack[['ldl', 'smoking']].isnull().sum()"
   ]
  },
  {
   "cell_type": "markdown",
   "metadata": {},
   "source": [
    "### Calculate the mean value of LDL based on non-smoker group and smoker group"
   ]
  },
  {
   "cell_type": "code",
   "execution_count": 19,
   "metadata": {},
   "outputs": [
    {
     "name": "stdout",
     "output_type": "stream",
     "text": [
      "smoking\n",
      "0    132.093487\n",
      "1    121.966360\n",
      "Name: ldl, dtype: float64\n"
     ]
    }
   ],
   "source": [
    "ldl_by_smoking = heart_attack.groupby('smoking')['ldl'].mean()\n",
    "print(ldl_by_smoking)"
   ]
  },
  {
   "cell_type": "markdown",
   "metadata": {},
   "source": [
    "### Final Construction"
   ]
  },
  {
   "cell_type": "code",
   "execution_count": 97,
   "metadata": {},
   "outputs": [
    {
     "name": "stdout",
     "output_type": "stream",
     "text": [
      "   Smoking Status  Mean LDL Cholesterol\n",
      "0               0            132.093487\n",
      "1               1            121.966360\n"
     ]
    }
   ],
   "source": [
    "def compute_ldl_by_smoking(data):\n",
    "    data = data[['ldl', 'smoking']].dropna()\n",
    "    \n",
    "    ldl_by_smoking = data.groupby('smoking')['ldl'].mean().reset_index()\n",
    "    ldl_by_smoking.columns = ['Smoking Status', 'Mean LDL Cholesterol']\n",
    "    \n",
    "    return ldl_by_smoking\n",
    "\n",
    "print(compute_ldl_by_smoking(heart_attack))"
   ]
  },
  {
   "cell_type": "markdown",
   "metadata": {},
   "source": [
    "Non-smoking people are less likely to have LDL (Low-Density Lipoprotein) cholesterol. LDL often leads to the buildup of plaque in the arteries, which can increase the risk of cardiovascular diseases such as heart attack and stroke."
   ]
  },
  {
   "cell_type": "markdown",
   "metadata": {},
   "source": [
    "### Road Accident data"
   ]
  },
  {
   "cell_type": "code",
   "execution_count": 21,
   "metadata": {},
   "outputs": [
    {
     "name": "stdout",
     "output_type": "stream",
     "text": [
      "  Country  Year     Month Day of Week Time of Day Urban/Rural  Road Type  \\\n",
      "0     USA  2002   October     Tuesday     Evening       Rural     Street   \n",
      "1      UK  2014  December    Saturday     Evening       Urban     Street   \n",
      "2     USA  2012      July      Sunday   Afternoon       Urban    Highway   \n",
      "3      UK  2017       May    Saturday     Evening       Urban  Main Road   \n",
      "4  Canada  2002      July     Tuesday   Afternoon       Rural    Highway   \n",
      "\n",
      "  Weather Conditions  Visibility Level  Number of Vehicles Involved  ...  \\\n",
      "0              Windy        220.414651                            1  ...   \n",
      "1              Windy        168.311358                            3  ...   \n",
      "2              Snowy        341.286506                            4  ...   \n",
      "3              Clear        489.384536                            2  ...   \n",
      "4              Rainy        348.344850                            1  ...   \n",
      "\n",
      "   Number of Fatalities Emergency Response Time Traffic Volume  \\\n",
      "0                     2               58.625720    7412.752760   \n",
      "1                     1               58.041380    4458.628820   \n",
      "2                     4               42.374452    9856.915064   \n",
      "3                     3               48.554014    4958.646267   \n",
      "4                     4               18.318250    3843.191463   \n",
      "\n",
      "   Road Condition      Accident Cause Insurance Claims  Medical Cost  \\\n",
      "0             Wet             Weather                4  40499.856982   \n",
      "1    Snow-covered  Mechanical Failure                3   6486.600073   \n",
      "2             Wet            Speeding                4  29164.412982   \n",
      "3             Icy  Distracted Driving                3  25797.212566   \n",
      "4             Icy  Distracted Driving                8  15605.293921   \n",
      "\n",
      "   Economic Loss         Region  Population Density  \n",
      "0   22072.878502         Europe         3866.273014  \n",
      "1    9534.399441  North America         2333.916224  \n",
      "2   58009.145124  South America         4408.889129  \n",
      "3   20907.151302      Australia         2810.822423  \n",
      "4   13584.060759  South America         3883.645634  \n",
      "\n",
      "[5 rows x 30 columns]\n"
     ]
    }
   ],
   "source": [
    "roadacc = pd.read_csv(\"road_accident_dataset.csv\")\n",
    "print(roadacc.head())"
   ]
  },
  {
   "cell_type": "markdown",
   "metadata": {},
   "source": [
    "## Question 1"
   ]
  },
  {
   "cell_type": "markdown",
   "metadata": {},
   "source": [
    "###  Is there any difference between low, moderate and high level alcohol consumption in terms of the fatality rate?"
   ]
  },
  {
   "cell_type": "markdown",
   "metadata": {},
   "source": [
    "### Sudo Code\n",
    "1. Categorize Driver alcohol level into low, medium, and high level\n",
    "2. Compute Mean Fatalities for Each Alcohol Category"
   ]
  },
  {
   "cell_type": "markdown",
   "metadata": {},
   "source": [
    "### Clean the data"
   ]
  },
  {
   "cell_type": "code",
   "execution_count": 22,
   "metadata": {},
   "outputs": [
    {
     "data": {
      "text/html": [
       "<div>\n",
       "<style scoped>\n",
       "    .dataframe tbody tr th:only-of-type {\n",
       "        vertical-align: middle;\n",
       "    }\n",
       "\n",
       "    .dataframe tbody tr th {\n",
       "        vertical-align: top;\n",
       "    }\n",
       "\n",
       "    .dataframe thead th {\n",
       "        text-align: right;\n",
       "    }\n",
       "</style>\n",
       "<table border=\"1\" class=\"dataframe\">\n",
       "  <thead>\n",
       "    <tr style=\"text-align: right;\">\n",
       "      <th></th>\n",
       "      <th>Driver Alcohol Level</th>\n",
       "      <th>Number of Fatalities</th>\n",
       "    </tr>\n",
       "  </thead>\n",
       "  <tbody>\n",
       "    <tr>\n",
       "      <th>0</th>\n",
       "      <td>0.051921</td>\n",
       "      <td>2</td>\n",
       "    </tr>\n",
       "    <tr>\n",
       "      <th>1</th>\n",
       "      <td>0.234893</td>\n",
       "      <td>1</td>\n",
       "    </tr>\n",
       "    <tr>\n",
       "      <th>2</th>\n",
       "      <td>0.142366</td>\n",
       "      <td>4</td>\n",
       "    </tr>\n",
       "    <tr>\n",
       "      <th>3</th>\n",
       "      <td>0.120815</td>\n",
       "      <td>3</td>\n",
       "    </tr>\n",
       "    <tr>\n",
       "      <th>4</th>\n",
       "      <td>0.155842</td>\n",
       "      <td>4</td>\n",
       "    </tr>\n",
       "    <tr>\n",
       "      <th>...</th>\n",
       "      <td>...</td>\n",
       "      <td>...</td>\n",
       "    </tr>\n",
       "    <tr>\n",
       "      <th>131995</th>\n",
       "      <td>0.055295</td>\n",
       "      <td>0</td>\n",
       "    </tr>\n",
       "    <tr>\n",
       "      <th>131996</th>\n",
       "      <td>0.077918</td>\n",
       "      <td>4</td>\n",
       "    </tr>\n",
       "    <tr>\n",
       "      <th>131997</th>\n",
       "      <td>0.063216</td>\n",
       "      <td>3</td>\n",
       "    </tr>\n",
       "    <tr>\n",
       "      <th>131998</th>\n",
       "      <td>0.013100</td>\n",
       "      <td>2</td>\n",
       "    </tr>\n",
       "    <tr>\n",
       "      <th>131999</th>\n",
       "      <td>0.140279</td>\n",
       "      <td>4</td>\n",
       "    </tr>\n",
       "  </tbody>\n",
       "</table>\n",
       "<p>132000 rows × 2 columns</p>\n",
       "</div>"
      ],
      "text/plain": [
       "        Driver Alcohol Level  Number of Fatalities\n",
       "0                   0.051921                     2\n",
       "1                   0.234893                     1\n",
       "2                   0.142366                     4\n",
       "3                   0.120815                     3\n",
       "4                   0.155842                     4\n",
       "...                      ...                   ...\n",
       "131995              0.055295                     0\n",
       "131996              0.077918                     4\n",
       "131997              0.063216                     3\n",
       "131998              0.013100                     2\n",
       "131999              0.140279                     4\n",
       "\n",
       "[132000 rows x 2 columns]"
      ]
     },
     "execution_count": 22,
     "metadata": {},
     "output_type": "execute_result"
    }
   ],
   "source": [
    "roadacc[['Driver Alcohol Level','Number of Fatalities']].dropna()"
   ]
  },
  {
   "cell_type": "markdown",
   "metadata": {},
   "source": [
    "### Categorize Driver alcohol level into low, medium, and high level"
   ]
  },
  {
   "cell_type": "code",
   "execution_count": 23,
   "metadata": {},
   "outputs": [],
   "source": [
    "roadacc['Alcohol Category'] = roadacc['Driver Alcohol Level'].apply(\n",
    "    lambda x: 'No Alcohol' if x == 0 else\n",
    "              'Low Alcohol' if 0 < x <= 0.05 else\n",
    "              'Moderate Alcohol' if 0.05 < x <= 0.10 else\n",
    "              'High Alcohol'\n",
    ")"
   ]
  },
  {
   "cell_type": "markdown",
   "metadata": {},
   "source": [
    "### Compute Mean Fatalities for Each Alcohol Category"
   ]
  },
  {
   "cell_type": "code",
   "execution_count": 25,
   "metadata": {},
   "outputs": [
    {
     "name": "stdout",
     "output_type": "stream",
     "text": [
      "   Alcohol Category  Mean Fatalities\n",
      "0      High Alcohol         1.997338\n",
      "1       Low Alcohol         1.991136\n",
      "2  Moderate Alcohol         1.994028\n"
     ]
    }
   ],
   "source": [
    "fatalities_by_alcohol = roadacc.groupby('Alcohol Category')['Number of Fatalities'].mean().reset_index()\n",
    "fatalities_by_alcohol.columns = ['Alcohol Category', 'Mean Fatalities']\n",
    "print(fatalities_by_alcohol.head())"
   ]
  },
  {
   "cell_type": "markdown",
   "metadata": {},
   "source": [
    "### Final Construction"
   ]
  },
  {
   "cell_type": "code",
   "execution_count": 98,
   "metadata": {},
   "outputs": [
    {
     "name": "stdout",
     "output_type": "stream",
     "text": [
      "   Alcohol Category  Mean Fatalities\n",
      "0      High Alcohol         1.997704\n",
      "1       Low Alcohol         2.008873\n",
      "2  Moderate Alcohol         1.984775\n"
     ]
    }
   ],
   "source": [
    "def alcohol_vs_fatalities(data):\n",
    "    data = data[['Driver Alcohol Level', 'Number of Fatalities']].dropna()\n",
    "    \n",
    "    data['Alcohol Category'] = data['Driver Alcohol Level'].apply(\n",
    "        lambda x: 'No Alcohol' if x == 0 else\n",
    "                  'Low Alcohol' if 0 < x <= 0.05 else\n",
    "                  'Moderate Alcohol' if 0.05 < x <= 0.10 else\n",
    "                  'High Alcohol'\n",
    "    )\n",
    "    \n",
    "    fatalities_by_alcohol = data.groupby('Alcohol Category')['Number of Fatalities'].mean().reset_index()\n",
    "    fatalities_by_alcohol.columns = ['Alcohol Category', 'Mean Fatalities']\n",
    "    \n",
    "    return fatalities_by_alcohol\n",
    "\n",
    "fatalities_alcohol_df = alcohol_vs_fatalities(roadacc)\n",
    "print(fatalities_alcohol_df)"
   ]
  },
  {
   "cell_type": "markdown",
   "metadata": {},
   "source": [
    "As we can see, the level of alcohol intake does not have a strong impact on the fatality rate. It's always encouraged to stay sober."
   ]
  },
  {
   "cell_type": "markdown",
   "metadata": {},
   "source": [
    "## Question 2"
   ]
  },
  {
   "cell_type": "markdown",
   "metadata": {},
   "source": [
    "### On which day of the week do the most injuries occur in the USA?"
   ]
  },
  {
   "cell_type": "code",
   "execution_count": 32,
   "metadata": {},
   "outputs": [
    {
     "name": "stdout",
     "output_type": "stream",
     "text": [
      "  Country  Year     Month Day of Week Time of Day Urban/Rural  Road Type  \\\n",
      "0     USA  2002   October     Tuesday     Evening       Rural     Street   \n",
      "1      UK  2014  December    Saturday     Evening       Urban     Street   \n",
      "2     USA  2012      July      Sunday   Afternoon       Urban    Highway   \n",
      "3      UK  2017       May    Saturday     Evening       Urban  Main Road   \n",
      "4  Canada  2002      July     Tuesday   Afternoon       Rural    Highway   \n",
      "\n",
      "  Weather Conditions  Visibility Level  Number of Vehicles Involved  ...  \\\n",
      "0              Windy        220.414651                            1  ...   \n",
      "1              Windy        168.311358                            3  ...   \n",
      "2              Snowy        341.286506                            4  ...   \n",
      "3              Clear        489.384536                            2  ...   \n",
      "4              Rainy        348.344850                            1  ...   \n",
      "\n",
      "   Traffic Volume Road Condition      Accident Cause  Insurance Claims  \\\n",
      "0     7412.752760            Wet             Weather                 4   \n",
      "1     4458.628820   Snow-covered  Mechanical Failure                 3   \n",
      "2     9856.915064            Wet            Speeding                 4   \n",
      "3     4958.646267            Icy  Distracted Driving                 3   \n",
      "4     3843.191463            Icy  Distracted Driving                 8   \n",
      "\n",
      "   Medical Cost Economic Loss         Region  Population Density  \\\n",
      "0  40499.856982  22072.878502         Europe         3866.273014   \n",
      "1   6486.600073   9534.399441  North America         2333.916224   \n",
      "2  29164.412982  58009.145124  South America         4408.889129   \n",
      "3  25797.212566  20907.151302      Australia         2810.822423   \n",
      "4  15605.293921  13584.060759  South America         3883.645634   \n",
      "\n",
      "   Alcohol Category   Speed Category  \n",
      "0  Moderate Alcohol   Moderate Speed  \n",
      "1      High Alcohol  Very High Speed  \n",
      "2      High Alcohol       High Speed  \n",
      "3      High Alcohol       High Speed  \n",
      "4      High Alcohol  Very High Speed  \n",
      "\n",
      "[5 rows x 32 columns]\n"
     ]
    }
   ],
   "source": [
    "print(roadacc.head())"
   ]
  },
  {
   "cell_type": "markdown",
   "metadata": {},
   "source": [
    "### Sudo Code\n",
    "\n",
    "1. Filter the dataset to include only accidents in the USA.\n",
    "2. Group the data by the day of the week and calculate the average number of injuries."
   ]
  },
  {
   "cell_type": "markdown",
   "metadata": {},
   "source": [
    "### Filter the data to USA only"
   ]
  },
  {
   "cell_type": "code",
   "execution_count": 93,
   "metadata": {},
   "outputs": [],
   "source": [
    "usa = roadacc[roadacc['Country'] == 'USA']"
   ]
  },
  {
   "cell_type": "markdown",
   "metadata": {},
   "source": [
    "### Group the data by the day of the week and sum the total number of injuries."
   ]
  },
  {
   "cell_type": "code",
   "execution_count": 96,
   "metadata": {},
   "outputs": [
    {
     "name": "stdout",
     "output_type": "stream",
     "text": [
      "  Day of Week  Number of Injuries\n",
      "0      Friday            9.395048\n",
      "1      Monday            9.293426\n",
      "2    Saturday            9.581967\n",
      "3      Sunday            9.442553\n",
      "4    Thursday            9.596091\n",
      "5     Tuesday            9.523909\n",
      "6   Wednesday            9.523438\n"
     ]
    }
   ],
   "source": [
    "injuries_by_day = usa.groupby('Day of Week')['Number of Injuries'].mean().reset_index()\n",
    "print(injuries_by_day)"
   ]
  },
  {
   "cell_type": "markdown",
   "metadata": {},
   "source": [
    "### Final Construction"
   ]
  },
  {
   "cell_type": "code",
   "execution_count": null,
   "metadata": {},
   "outputs": [
    {
     "name": "stdout",
     "output_type": "stream",
     "text": [
      "  Day of Week  Number of Injuries\n",
      "0      Friday            9.395048\n",
      "1      Monday            9.293426\n",
      "2    Saturday            9.581967\n",
      "3      Sunday            9.442553\n",
      "4    Thursday            9.596091\n",
      "5     Tuesday            9.523909\n",
      "6   Wednesday            9.523438\n"
     ]
    }
   ],
   "source": [
    "def day_of_the_acc(data):\n",
    "    usa = data[data['Country'] == 'USA']\n",
    "    injuries_by_day = usa.groupby('Day of Week')['Number of Injuries'].mean().reset_index()\n",
    "    return injuries_by_day\n",
    "\n",
    "print(day_of_the_acc(roadacc))"
   ]
  },
  {
   "cell_type": "markdown",
   "metadata": {},
   "source": [
    "As we can see from the data, Thursdays are when injuries are most likely to happen."
   ]
  }
 ],
 "metadata": {
  "kernelspec": {
   "display_name": ".venv",
   "language": "python",
   "name": "python3"
  },
  "language_info": {
   "codemirror_mode": {
    "name": "ipython",
    "version": 3
   },
   "file_extension": ".py",
   "mimetype": "text/x-python",
   "name": "python",
   "nbconvert_exporter": "python",
   "pygments_lexer": "ipython3",
   "version": "3.12.8"
  }
 },
 "nbformat": 4,
 "nbformat_minor": 2
}
